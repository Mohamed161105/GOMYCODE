{
 "cells": [
  {
   "cell_type": "code",
   "execution_count": 7,
   "id": "16fe6771-68b8-43f9-8ac5-eb5e96605343",
   "metadata": {},
   "outputs": [
    {
     "name": "stdin",
     "output_type": "stream",
     "text": [
      " 4\n",
      " 5\n",
      " 7\n"
     ]
    },
    {
     "name": "stdout",
     "output_type": "stream",
     "text": [
      "the maximum number is 7.0\n"
     ]
    }
   ],
   "source": [
    "#question 1\n",
    "def max(a, b, c):\n",
    "    if (a >= b) and (a >= c):\n",
    "        max = a\n",
    "    elif (b >= a) and (b >= c):\n",
    "        max = b\n",
    "    else:\n",
    "        max = c\n",
    "    return max\n",
    "a = float(input())\n",
    "b = float(input())\n",
    "c = float(input())\n",
    "print(\"the maximum number is\", max(a, b, c))"
   ]
  },
  {
   "cell_type": "code",
   "execution_count": 8,
   "id": "36a58f7c-8ff1-4c11-87f4-eeae4effd1d8",
   "metadata": {},
   "outputs": [
    {
     "name": "stdin",
     "output_type": "stream",
     "text": [
      " 5\n",
      " 9\n"
     ]
    },
    {
     "name": "stdout",
     "output_type": "stream",
     "text": [
      "(14.0, -4.0)\n"
     ]
    }
   ],
   "source": [
    "#question 2\n",
    "def calculation(x,y):\n",
    "    a=x+y\n",
    "    b=x-y\n",
    "    return(a,b)\n",
    "x=float(input())\n",
    "y=float(input())\n",
    "print(calculation(x,y))\n"
   ]
  },
  {
   "cell_type": "code",
   "execution_count": 4,
   "id": "6d1ba2ce-404b-4506-84d2-3383dfb793b5",
   "metadata": {},
   "outputs": [
    {
     "name": "stdin",
     "output_type": "stream",
     "text": [
      "Enter number of elements :  4\n",
      " 4\n",
      " 7\n",
      " 5\n",
      " 8\n"
     ]
    },
    {
     "name": "stdout",
     "output_type": "stream",
     "text": [
      "24\n"
     ]
    },
    {
     "name": "stdin",
     "output_type": "stream",
     "text": [
      "Enter number of elements :  7\n",
      " 4\n",
      " 5\n",
      " 5\n",
      " 4\n",
      " 4\n",
      " 5\n",
      " 7\n"
     ]
    },
    {
     "name": "stdout",
     "output_type": "stream",
     "text": [
      "56000\n"
     ]
    }
   ],
   "source": [
    "#question 3\n",
    "list=[]\n",
    "n = int(input(\"Enter number of elements : \"))\n",
    "for i in range(0, n):\n",
    "    element = int(input())\n",
    "    list.append(element)\n",
    "def listsum(list):\n",
    "    res=0\n",
    "    for i in list:\n",
    "        res += i\n",
    "    return res\n",
    "print(listsum(list))\n",
    "\n",
    "\n",
    "list=[]\n",
    "n = int(input(\"Enter number of elements : \"))\n",
    "for i in range(0, n):\n",
    "    element = int(input())\n",
    "    list.append(element)\n",
    "def listsum(list):\n",
    "    res=1\n",
    "    for i in list:\n",
    "        res*=i\n",
    "    return res\n",
    "print(listsum(list))"
   ]
  },
  {
   "cell_type": "code",
   "execution_count": 6,
   "id": "8c799444-b035-4d61-9c8b-13dd2acad2f4",
   "metadata": {},
   "outputs": [
    {
     "name": "stdout",
     "output_type": "stream",
     "text": [
      "the sum of the even of these numbers is 64\n",
      "the multiplication of the odd numbers is 196\n"
     ]
    }
   ],
   "source": [
    "def sum(list):\n",
    "    result=0\n",
    "    for i in list:\n",
    "        result+=i\n",
    "    return result\n",
    "def pl(list):\n",
    "    result1=1\n",
    "    for i in list:\n",
    "        result1*=i\n",
    "    return result1\n",
    "list1=[10, 7, 11, 28, 43]\n",
    "list2=[]\n",
    "list3=[]\n",
    "for i in range (0,len(list1),2):\n",
    "    list2.append(list1[i])\n",
    "    x=sum(list2)\n",
    "print(\"the sum of the even of these numbers is\",x)\n",
    "for s in range(1,len(list1),2):\n",
    "    list3.append(list1[s])\n",
    "    c=pl(list3)\n",
    "print(\"the multiplication of the odd numbers is\", c)"
   ]
  },
  {
   "cell_type": "code",
   "execution_count": 10,
   "id": "0b3cd7ae-314a-4314-a3d2-3026a3e3c1b9",
   "metadata": {},
   "outputs": [
    {
     "name": "stdin",
     "output_type": "stream",
     "text": [
      "enter words seperated by -  mohamed-abdelkrim-salim-skander\n"
     ]
    },
    {
     "name": "stdout",
     "output_type": "stream",
     "text": [
      "abdelkrim-mohamed-salim-skander\n"
     ]
    }
   ],
   "source": [
    "#question 4\n",
    "items=[n for n in input(\"enter words seperated by - \").split('-')]\n",
    "items.sort()\n",
    "print(\"-\".join(items))"
   ]
  },
  {
   "cell_type": "code",
   "execution_count": 11,
   "id": "7d9ef803-4640-4145-9f61-66f787a9f735",
   "metadata": {},
   "outputs": [
    {
     "name": "stdin",
     "output_type": "stream",
     "text": [
      " 100,150,180\n"
     ]
    },
    {
     "name": "stdout",
     "output_type": "stream",
     "text": [
      "[18, 22, 24]\n"
     ]
    }
   ],
   "source": [
    "#question 5\n",
    "import math\n",
    "H = 30\n",
    "C = 50\n",
    "D = input()\n",
    "D = D.split(',')\n",
    "list = []\n",
    "for D in D:\n",
    "    Q = round(math.sqrt(2 * C * int(D) /H ))\n",
    "    list.append(Q)\n",
    "print(list)"
   ]
  },
  {
   "cell_type": "code",
   "execution_count": null,
   "id": "000d6b90-2244-4c58-b7a5-0f1bb5205fe2",
   "metadata": {},
   "outputs": [],
   "source": []
  }
 ],
 "metadata": {
  "kernelspec": {
   "display_name": "Python 3",
   "language": "python",
   "name": "python3"
  },
  "language_info": {
   "codemirror_mode": {
    "name": "ipython",
    "version": 3
   },
   "file_extension": ".py",
   "mimetype": "text/x-python",
   "name": "python",
   "nbconvert_exporter": "python",
   "pygments_lexer": "ipython3",
   "version": "3.8.8"
  }
 },
 "nbformat": 4,
 "nbformat_minor": 5
}
