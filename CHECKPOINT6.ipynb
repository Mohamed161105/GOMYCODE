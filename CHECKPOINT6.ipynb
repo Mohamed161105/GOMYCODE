{
 "cells": [
  {
   "cell_type": "code",
   "execution_count": 5,
   "id": "d492d3af-b74b-43ec-9f01-918ce099d179",
   "metadata": {},
   "outputs": [
    {
     "name": "stdout",
     "output_type": "stream",
     "text": [
      "[1, 2, 3, 4, 5, 6]\n"
     ]
    }
   ],
   "source": [
    "# Question 1\n",
    "from array import *\n",
    "new_array=array('b',[1,2,3,4,5,6])\n",
    "list=new_array.tolist()\n",
    "print(list)\n"
   ]
  },
  {
   "cell_type": "code",
   "execution_count": 6,
   "id": "4e678f66-9b54-42d3-bfb8-2b1c4f3dd04d",
   "metadata": {},
   "outputs": [
    {
     "name": "stdout",
     "output_type": "stream",
     "text": [
      "[[0 1 2]\n",
      " [3 4 5]\n",
      " [6 7 8]]\n",
      "12\n"
     ]
    }
   ],
   "source": [
    "# Question 2\n",
    "import numpy as np\n",
    "p=np.arange(9).reshape(3,3)\n",
    "print(p)\n",
    "result=np.trace(p)\n",
    "print(result)"
   ]
  },
  {
   "cell_type": "code",
   "execution_count": 1,
   "id": "835f9d57-5360-4ffb-aacd-b9d1c38f68fc",
   "metadata": {},
   "outputs": [
    {
     "name": "stdout",
     "output_type": "stream",
     "text": [
      "Values bigger than 11 [15]\n"
     ]
    }
   ],
   "source": [
    "# Question 3\n",
    "import numpy as np\n",
    "import numpy as np\n",
    "x = np.array([[4, 7, 9], [15, 8, 11]])\n",
    "print(\"Values bigger than 11\", x[x>11])"
   ]
  },
  {
   "cell_type": "code",
   "execution_count": 2,
   "id": "7eb6099c-388c-40f5-add8-64d330a9f6d8",
   "metadata": {},
   "outputs": [
    {
     "name": "stdout",
     "output_type": "stream",
     "text": [
      "[[[ 9  8]\n",
      "  [ 9  7]\n",
      "  [15 11]]]\n"
     ]
    }
   ],
   "source": [
    "# Question 4\n",
    "import numpy as np\n",
    "a=np.array([(5,3),(2,4),(7,5)])\n",
    "b=np.array([(4,5),(7,3),(8,6)])\n",
    "c=np.array([a+b])\n",
    "print(c)"
   ]
  },
  {
   "cell_type": "code",
   "execution_count": 4,
   "id": "b3b02cf6-c0a5-43f1-8716-d3fa97b64b5c",
   "metadata": {},
   "outputs": [
    {
     "name": "stdout",
     "output_type": "stream",
     "text": [
      "[[4 7 3 4 7]\n",
      " [2 7 2 8 5]]\n",
      "[[-1.   2.  -2.  -1.   2. ]\n",
      " [-2.8  2.2 -2.8  3.2  0.2]]\n"
     ]
    }
   ],
   "source": [
    "#question 5\n",
    "import numpy as np\n",
    "x= np.random.randint(2, 10, size=(2,5))\n",
    "print(x)\n",
    "y = x- x.mean(axis=1, keepdims=True)\n",
    "print(y)"
   ]
  },
  {
   "cell_type": "code",
   "execution_count": null,
   "id": "c708b6ef-199c-47e6-8771-3d5fe3305de8",
   "metadata": {},
   "outputs": [],
   "source": []
  }
 ],
 "metadata": {
  "kernelspec": {
   "display_name": "Python 3",
   "language": "python",
   "name": "python3"
  },
  "language_info": {
   "codemirror_mode": {
    "name": "ipython",
    "version": 3
   },
   "file_extension": ".py",
   "mimetype": "text/x-python",
   "name": "python",
   "nbconvert_exporter": "python",
   "pygments_lexer": "ipython3",
   "version": "3.8.8"
  }
 },
 "nbformat": 4,
 "nbformat_minor": 5
}
