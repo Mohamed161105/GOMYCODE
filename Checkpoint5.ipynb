{
 "cells": [
  {
   "cell_type": "code",
   "execution_count": 2,
   "id": "7758dc6c-8fa1-431c-8995-cc27aef23e89",
   "metadata": {},
   "outputs": [
    {
     "name": "stdin",
     "output_type": "stream",
     "text": [
      " 1\n",
      " 2\n",
      " 3\n"
     ]
    },
    {
     "name": "stdout",
     "output_type": "stream",
     "text": [
      "(1, 2, 3)\n"
     ]
    }
   ],
   "source": [
    "#question 1\n",
    "class Point3D:\n",
    "     def _init_(self,x,y,z):\n",
    "         self.x= x\n",
    "         self.y= y\n",
    "         self.z= z\n",
    "         return self.x,self.y,self.z\n",
    "def my_pointcontaining(x,y,z):\n",
    "        return(x,y,z)\n",
    "x=int(input())\n",
    "y=int(input())\n",
    "z=int(input())\n",
    "print(my_pointcontaining(x,y,z))"
   ]
  },
  {
   "cell_type": "code",
   "execution_count": 5,
   "id": "e2cf369d-e8b2-42ca-9313-704b28db1396",
   "metadata": {},
   "outputs": [
    {
     "name": "stdout",
     "output_type": "stream",
     "text": [
      "12\n"
     ]
    }
   ],
   "source": [
    "#question 2 area\n",
    "class Rectangle:\n",
    "    def __init__(self,length,width):\n",
    "        self.length=length\n",
    "        self.width=width\n",
    "    def area(self):\n",
    "        return(self.length *self.width)\n",
    "my_rectangle = Rectangle(3, 4)\n",
    "print(my_rectangle.area())\n",
    "    \n",
    "\n",
    "\n"
   ]
  },
  {
   "cell_type": "code",
   "execution_count": 7,
   "id": "dc717243-e2c1-495d-9d04-d376838c350b",
   "metadata": {},
   "outputs": [
    {
     "name": "stdout",
     "output_type": "stream",
     "text": [
      "14\n"
     ]
    }
   ],
   "source": [
    "#question 2 perimeter\n",
    "class Rectangle:\n",
    "    def __init__(self,length,width):\n",
    "        self.length=length\n",
    "        self.width=width\n",
    "    def perimeter(self):\n",
    "        return(2*(self.length+self.width))\n",
    "my_rectangle = Rectangle(3, 4)\n",
    "print(my_rectangle.perimeter())\n",
    "    "
   ]
  },
  {
   "cell_type": "code",
   "execution_count": 5,
   "id": "1de98a6e-7829-4f2e-a065-00647e5f97de",
   "metadata": {},
   "outputs": [
    {
     "name": "stdin",
     "output_type": "stream",
     "text": [
      "Enter radius: 4\n"
     ]
    },
    {
     "name": "stdout",
     "output_type": "stream",
     "text": [
      "l'aire est de  50\n",
      "le périmètre est de  25\n"
     ]
    },
    {
     "name": "stdin",
     "output_type": "stream",
     "text": [
      " 3\n",
      " 4\n"
     ]
    },
    {
     "name": "stdout",
     "output_type": "stream",
     "text": [
      "Outside\n"
     ]
    }
   ],
   "source": [
    "# question 3\n",
    "import math\n",
    "class Circle():\n",
    "    def __init__(self, r):\n",
    "        self.radius = r\n",
    "    def area(self):\n",
    "        return round(self.radius**2*math.pi)\n",
    "    def perimeter(self):\n",
    "        return round(2*self.radius*math.pi)\n",
    "\n",
    "radi = int(input(\"Enter radius:\"))\n",
    "new_Circle = Circle(radi)\n",
    "print(\"l'aire est de \", new_Circle.area())\n",
    "print(\"le périmètre est de \", new_Circle.perimeter())\n",
    "def isInside(new_circle_x, new_circle_y, rad, x, y):\n",
    "    if ((a_x - new_circle_x) * (a_x - new_circle_x) +\n",
    "        (a_y - new_circle_y) * (a_y - new_circle_y) <= rad * rad):\n",
    "        return True;\n",
    "    else:\n",
    "        return False;\n",
    "a_x = int(input());\n",
    "a_y = int(input());\n",
    "new_circle_x = 0;\n",
    "new_circle_y = 1;\n",
    "rad = radi;\n",
    "if(isInside(new_circle_x, new_circle_y, rad, a_x, a_y)):\n",
    "    print(\"Inside\");\n",
    "else:\n",
    "    print(\"Outside\");"
   ]
  },
  {
   "cell_type": "code",
   "execution_count": 8,
   "id": "60442e40-a488-44ae-8b5f-b9ea6c9c992b",
   "metadata": {},
   "outputs": [
    {
     "name": "stdin",
     "output_type": "stream",
     "text": [
      "Enter amount to be Deposited:  555\n"
     ]
    },
    {
     "name": "stdout",
     "output_type": "stream",
     "text": [
      "Amount Deposited: 555.0\n"
     ]
    },
    {
     "name": "stdin",
     "output_type": "stream",
     "text": [
      "Enter amount to be Withdrawn:  555\n"
     ]
    },
    {
     "name": "stdout",
     "output_type": "stream",
     "text": [
      " You Withdrew: 555.0\n"
     ]
    }
   ],
   "source": [
    "#question 4\n",
    "class bank_account:\n",
    "\tdef __init__(self):\n",
    "\t\tself.balance=0\n",
    "\t\t\n",
    "\n",
    "\tdef deposit(self):\n",
    "\t\tamount=float(input(\"Enter amount to be Deposited: \"))\n",
    "\t\tself.balance += amount\n",
    "\t\tprint(\"Amount Deposited:\",amount)\n",
    "\t\t\n",
    "\tdef withdraw(self):\n",
    "\t\tamount = float(input(\"Enter amount to be Withdrawn: \"))\n",
    "\t\tif self.balance>=amount:\n",
    "\t\t\tself.balance-=amount\n",
    "\t\t\tprint(\" You Withdrew:\", amount)\n",
    "\t\telse:\n",
    "\t\t\tprint(\" Insufficient balance \")\n",
    "\t\t\n",
    "s = bank_account()\n",
    "s.deposit()\n",
    "s.withdraw()"
   ]
  },
  {
   "cell_type": "code",
   "execution_count": null,
   "id": "ff437134-30a2-4ea0-976c-ae18011280df",
   "metadata": {},
   "outputs": [],
   "source": []
  },
  {
   "cell_type": "code",
   "execution_count": null,
   "id": "a223bf99-6251-4f87-a4f3-aa054caeabe7",
   "metadata": {},
   "outputs": [],
   "source": []
  },
  {
   "cell_type": "code",
   "execution_count": null,
   "id": "66186e27-22fb-48c3-b2cf-f721c3bee0a7",
   "metadata": {},
   "outputs": [],
   "source": []
  }
 ],
 "metadata": {
  "kernelspec": {
   "display_name": "Python 3",
   "language": "python",
   "name": "python3"
  },
  "language_info": {
   "codemirror_mode": {
    "name": "ipython",
    "version": 3
   },
   "file_extension": ".py",
   "mimetype": "text/x-python",
   "name": "python",
   "nbconvert_exporter": "python",
   "pygments_lexer": "ipython3",
   "version": "3.8.8"
  }
 },
 "nbformat": 4,
 "nbformat_minor": 5
}
