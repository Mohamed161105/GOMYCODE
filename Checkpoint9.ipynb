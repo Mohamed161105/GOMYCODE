{
 "cells": [
  {
   "cell_type": "code",
   "execution_count": 6,
   "id": "02c2ae82-3ec6-44c5-90a1-62925ca7fef8",
   "metadata": {},
   "outputs": [
    {
     "name": "stdin",
     "output_type": "stream",
     "text": [
      " 3\n",
      " 4\n"
     ]
    },
    {
     "name": "stdout",
     "output_type": "stream",
     "text": [
      "81\n"
     ]
    }
   ],
   "source": [
    "#2\n",
    "a=int(input())\n",
    "b=int(input())\n",
    "def power(a,b):\n",
    "    return a**b\n",
    "print(power(a,b))"
   ]
  },
  {
   "cell_type": "code",
   "execution_count": 1,
   "id": "938bf7bc-2235-485e-b021-3c474ed14ca5",
   "metadata": {},
   "outputs": [
    {
     "name": "stdin",
     "output_type": "stream",
     "text": [
      " 4\n"
     ]
    },
    {
     "name": "stdout",
     "output_type": "stream",
     "text": [
      "False\n",
      "None\n"
     ]
    }
   ],
   "source": [
    "#1\n",
    "def binary_search(sequence,item):\n",
    "    bi=0\n",
    "    ei=len(sequence)-1\n",
    "    \n",
    "    while bi<=ei:\n",
    "        midpoint=bi+(ei-bi)//2\n",
    "        midpoint_value=sequence[midpoint]\n",
    "        if midpoint_value==item:\n",
    "            return midpoint\n",
    "        elif midpoint_value>item:\n",
    "            ei=midpoint-1\n",
    "        else:\n",
    "            bi=midpoint+1\n",
    "sequence_b=([0,1,2,3,5,8])\n",
    "item_b=int(input())\n",
    "if item_b in sequence_b:\n",
    "    print(True)\n",
    "else:\n",
    "    print(False) \n",
    "print(binary_search(sequence_b,item_b))"
   ]
  },
  {
   "cell_type": "code",
   "execution_count": 3,
   "id": "879c8ff6-517a-49be-8f49-af8dcd8305fa",
   "metadata": {},
   "outputs": [
    {
     "name": "stdout",
     "output_type": "stream",
     "text": [
      "[1, 3, 5, 27, 41, 46, 55, 415, 700]\n"
     ]
    }
   ],
   "source": [
    "#3\n",
    "def bubbleSort(nlist):\n",
    "    for passnum in range(len(nlist)-1,0,-1):\n",
    "        for i in range(passnum):\n",
    "            if nlist[i]>nlist[i+1]:\n",
    "                switch = nlist[i]\n",
    "                nlist[i] = nlist[i+1]\n",
    "                nlist[i+1] = switch\n",
    "    return nlist\n",
    "\n",
    "nlist = [5,46,3,27,55,41,415,1,700]\n",
    "print(bubbleSort(nlist))"
   ]
  },
  {
   "cell_type": "code",
   "execution_count": 4,
   "id": "31a3d848-f94d-4327-843c-d62db9977644",
   "metadata": {},
   "outputs": [
    {
     "name": "stdout",
     "output_type": "stream",
     "text": [
      "[1, 2, 3, 4, 5, 6, 7, 8, 9, 10]\n"
     ]
    }
   ],
   "source": [
    "#4\n",
    "def mergeSort(myList):\n",
    "    if len(myList) > 1:\n",
    "        mid = len(myList) // 2\n",
    "        left = myList[:mid]\n",
    "        right = myList[mid:]\n",
    "\n",
    "  \n",
    "        mergeSort(left)\n",
    "        mergeSort(right)\n",
    "\n",
    "       \n",
    "        i = 0\n",
    "        j = 0\n",
    "        \n",
    "        k = 0\n",
    "        \n",
    "        while i < len(left) and j < len(right):\n",
    "            if left[i] < right[j]:\n",
    "             \n",
    "              myList[k] = left[i]\n",
    "             \n",
    "              i += 1\n",
    "            else:\n",
    "                myList[k] = right[j]\n",
    "                j += 1\n",
    "            \n",
    "            k += 1\n",
    "\n",
    "       \n",
    "        while i < len(left):\n",
    "            myList[k] = left[i]\n",
    "            i += 1\n",
    "            k += 1\n",
    "\n",
    "        while j < len(right):\n",
    "            myList[k]=right[j]\n",
    "            j += 1\n",
    "            k += 1\n",
    "\n",
    "myList = [9,5,1,3,4,8,6,7,2,10]\n",
    "mergeSort(myList)\n",
    "print(myList)\n",
    "   "
   ]
  },
  {
   "cell_type": "code",
   "execution_count": 10,
   "id": "2258aecd-73f8-4bd5-97d4-1a66b90b92b5",
   "metadata": {},
   "outputs": [
    {
     "name": "stdout",
     "output_type": "stream",
     "text": [
      "[12, 19, 27, 28, 29, 31, 41, 44, 58, 66, 76, 78, 83, 87, 88, 97, 99]\n"
     ]
    }
   ],
   "source": [
    "#5\n",
    "def partition(array, start, end):\n",
    "    pivot = array[start]\n",
    "    low = start + 1\n",
    "    high = end\n",
    "    while True:\n",
    "        while low <= high and array[high] >= pivot:\n",
    "            high = high - 1\n",
    "        while low <= high and array[low] <= pivot:\n",
    "            low = low + 1\n",
    "        if low <= high:\n",
    "            array[low], array[high] = array[high], array[low]\n",
    "            \n",
    "        else:\n",
    "            break\n",
    "\n",
    "    array[start], array[high] = array[high], array[start]\n",
    "    return high\n",
    "def quick_sort(array, start, end):\n",
    "    if start >= end:\n",
    "        return\n",
    "\n",
    "    p = partition(array, start, end)\n",
    "    quick_sort(array, start, p-1)\n",
    "    quick_sort(array, p+1, end)\n",
    "array = [29,99,27,41,66,28,44,78,87,19,31,76,58,88,83,97,12]\n",
    "quick_sort(array, 0, len(array) - 1)\n",
    "print(array)"
   ]
  },
  {
   "cell_type": "code",
   "execution_count": null,
   "id": "627f9746-ca01-446d-887d-98ee064c3705",
   "metadata": {},
   "outputs": [],
   "source": []
  },
  {
   "cell_type": "code",
   "execution_count": null,
   "id": "83b61b56-3210-4b62-bc66-e5201943f3a3",
   "metadata": {},
   "outputs": [],
   "source": []
  }
 ],
 "metadata": {
  "kernelspec": {
   "display_name": "Python 3",
   "language": "python",
   "name": "python3"
  },
  "language_info": {
   "codemirror_mode": {
    "name": "ipython",
    "version": 3
   },
   "file_extension": ".py",
   "mimetype": "text/x-python",
   "name": "python",
   "nbconvert_exporter": "python",
   "pygments_lexer": "ipython3",
   "version": "3.8.8"
  }
 },
 "nbformat": 4,
 "nbformat_minor": 5
}
